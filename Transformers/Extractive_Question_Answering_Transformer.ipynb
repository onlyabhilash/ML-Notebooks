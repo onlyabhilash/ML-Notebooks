{
  "cells": [
    {
      "cell_type": "markdown",
      "metadata": {
        "id": "view-in-github",
        "colab_type": "text"
      },
      "source": [
        "<a href=\"https://colab.research.google.com/github/onlyabhilash/ML-Notebooks/blob/main/Transformers/Extractive_Question_Answering_Transformer.ipynb\" target=\"_parent\"><img src=\"https://colab.research.google.com/assets/colab-badge.svg\" alt=\"Open In Colab\"/></a>"
      ]
    },
    {
      "cell_type": "markdown",
      "source": [
        "<a href=\"https://www.kaggle.com/code/ritvik1909/question-answering-attention/\" target=\"_blank\"><img align=\"left\" alt=\"Kaggle\" title=\"Open in Kaggle\" src=\"https://kaggle.com/static/images/open-in-kaggle.svg\"></a>"
      ],
      "metadata": {
        "id": "3DaxdZ7LZZmM"
      }
    },
    {
      "cell_type": "code",
      "source": [
        "%%capture\n",
        "!pip install datasets"
      ],
      "metadata": {
        "id": "GxKNiLgyKrsL"
      },
      "execution_count": null,
      "outputs": []
    },
    {
      "cell_type": "code",
      "source": [
        "from datasets import load_dataset\n",
        "import pandas as pd\n",
        "import numpy as np\n",
        "\n",
        "import tensorflow as tf\n",
        "from tensorflow import keras\n",
        "from tensorflow.keras import layers as L\n",
        "from tensorflow.keras.preprocessing.text import Tokenizer\n",
        "from tensorflow.keras.preprocessing.sequence import pad_sequences"
      ],
      "metadata": {
        "id": "W2o7QX53K_Q6"
      },
      "execution_count": null,
      "outputs": []
    },
    {
      "cell_type": "markdown",
      "source": [
        "# Getting the Data\n",
        "\n",
        "In this notebook we will be working on SubjQA dataset which is available on the huggingface datasets\n",
        "\n",
        "SubjQA is a question answering dataset that focuses on subjective (as opposed to factual) questions and answers. The dataset consists of questions over reviews from 6 different domains: books, movies, grocery, electronics, TripAdvisor (i.e. hotels), and restaurants. "
      ],
      "metadata": {
        "id": "EbyuGn3aSMk-"
      }
    },
    {
      "cell_type": "code",
      "source": [
        "# Utility function to convert huggingface dataset into a pandas dataframe\n",
        "def get_dataframe(dataset, subset):\n",
        "  df = pd.DataFrame(dataset[subset])[['context', 'question', 'answers']]\n",
        "  df['answers'] = df['answers'].apply(lambda x: x['text'][0] if len(x['text']) > 0 else np.nan )\n",
        "  return df"
      ],
      "metadata": {
        "id": "UgsjB9enMewh"
      },
      "execution_count": null,
      "outputs": []
    },
    {
      "cell_type": "code",
      "execution_count": null,
      "metadata": {
        "id": "lIYdn1woOS1n"
      },
      "outputs": [],
      "source": [
        "%%capture\n",
        "# Getting the datasets for all 6 domains\n",
        "df_train = []\n",
        "df_valid = []\n",
        "df_test = []\n",
        "configs = ['books', 'electronics', 'grocery', 'movies', 'restaurants', 'tripadvisor']\n",
        "for config in configs:\n",
        "  temp = load_dataset(\"subjqa\", config)\n",
        "\n",
        "  temp_train = get_dataframe(temp, \"train\").dropna().reset_index(drop=True)\n",
        "  temp_train['group'] = config\n",
        "  df_train.append(temp_train)\n",
        "\n",
        "  temp_valid = get_dataframe(temp, \"validation\").dropna().reset_index(drop=True)\n",
        "  temp_valid['group'] = config\n",
        "  df_valid.append(temp_valid)\n",
        "\n",
        "  temp_test = get_dataframe(temp, \"test\").dropna().reset_index(drop=True)\n",
        "  temp_test['group'] = config\n",
        "  df_test.append(temp_test)\n",
        "\n",
        "df_train = pd.concat(df_train).reset_index(drop=True)\n",
        "df_valid = pd.concat(df_valid).reset_index(drop=True)\n",
        "df_test = pd.concat(df_test).reset_index(drop=True)"
      ]
    },
    {
      "cell_type": "code",
      "source": [
        "print(f\"# training examples: {len(df_train)}, validation examples: {len(df_valid)}, testing examples: {len(df_test)}\")\n",
        "print(\"Training Set:\")\n",
        "df_train.head()"
      ],
      "metadata": {
        "id": "u1NVBSvsO0Rt",
        "outputId": "91708c06-f5b5-49bf-b4bb-8257f42eb419",
        "colab": {
          "base_uri": "https://localhost:8080/",
          "height": 243
        }
      },
      "execution_count": null,
      "outputs": [
        {
          "output_type": "stream",
          "name": "stdout",
          "text": [
            "# training examples: 3276, validation examples: 647, testing examples: 999\n",
            "Training Set:\n"
          ]
        },
        {
          "output_type": "execute_result",
          "data": {
            "text/plain": [
              "                                             context  \\\n",
              "0  While I would not recommend this book to a you...   \n",
              "1  While I would not recommend this book to a you...   \n",
              "2  I loved the movie, but the book is so much bet...   \n",
              "3  This book is very enjoyable from beginning to ...   \n",
              "4  I enjoyed this book very much. The writing is ...   \n",
              "\n",
              "                            question  \\\n",
              "0           What are the parts like?   \n",
              "1                 How is the detail?   \n",
              "2  How would you describe the story?   \n",
              "3                      How is story?   \n",
              "4           How is Robinson's prose?   \n",
              "\n",
              "                                             answers  group  \n",
              "0                 This is a wonderfully written book  books  \n",
              "1            the subject matter would be interesting  books  \n",
              "2                         the book is so much better  books  \n",
              "3   revolves around Jakob a retired circus vet which  books  \n",
              "4  The writing is interesting and detailed. Gripp...  books  "
            ],
            "text/html": [
              "\n",
              "  <div id=\"df-41730f98-6b15-4684-a813-277e80dd8044\">\n",
              "    <div class=\"colab-df-container\">\n",
              "      <div>\n",
              "<style scoped>\n",
              "    .dataframe tbody tr th:only-of-type {\n",
              "        vertical-align: middle;\n",
              "    }\n",
              "\n",
              "    .dataframe tbody tr th {\n",
              "        vertical-align: top;\n",
              "    }\n",
              "\n",
              "    .dataframe thead th {\n",
              "        text-align: right;\n",
              "    }\n",
              "</style>\n",
              "<table border=\"1\" class=\"dataframe\">\n",
              "  <thead>\n",
              "    <tr style=\"text-align: right;\">\n",
              "      <th></th>\n",
              "      <th>context</th>\n",
              "      <th>question</th>\n",
              "      <th>answers</th>\n",
              "      <th>group</th>\n",
              "    </tr>\n",
              "  </thead>\n",
              "  <tbody>\n",
              "    <tr>\n",
              "      <th>0</th>\n",
              "      <td>While I would not recommend this book to a you...</td>\n",
              "      <td>What are the parts like?</td>\n",
              "      <td>This is a wonderfully written book</td>\n",
              "      <td>books</td>\n",
              "    </tr>\n",
              "    <tr>\n",
              "      <th>1</th>\n",
              "      <td>While I would not recommend this book to a you...</td>\n",
              "      <td>How is the detail?</td>\n",
              "      <td>the subject matter would be interesting</td>\n",
              "      <td>books</td>\n",
              "    </tr>\n",
              "    <tr>\n",
              "      <th>2</th>\n",
              "      <td>I loved the movie, but the book is so much bet...</td>\n",
              "      <td>How would you describe the story?</td>\n",
              "      <td>the book is so much better</td>\n",
              "      <td>books</td>\n",
              "    </tr>\n",
              "    <tr>\n",
              "      <th>3</th>\n",
              "      <td>This book is very enjoyable from beginning to ...</td>\n",
              "      <td>How is story?</td>\n",
              "      <td>revolves around Jakob a retired circus vet which</td>\n",
              "      <td>books</td>\n",
              "    </tr>\n",
              "    <tr>\n",
              "      <th>4</th>\n",
              "      <td>I enjoyed this book very much. The writing is ...</td>\n",
              "      <td>How is Robinson's prose?</td>\n",
              "      <td>The writing is interesting and detailed. Gripp...</td>\n",
              "      <td>books</td>\n",
              "    </tr>\n",
              "  </tbody>\n",
              "</table>\n",
              "</div>\n",
              "      <button class=\"colab-df-convert\" onclick=\"convertToInteractive('df-41730f98-6b15-4684-a813-277e80dd8044')\"\n",
              "              title=\"Convert this dataframe to an interactive table.\"\n",
              "              style=\"display:none;\">\n",
              "        \n",
              "  <svg xmlns=\"http://www.w3.org/2000/svg\" height=\"24px\"viewBox=\"0 0 24 24\"\n",
              "       width=\"24px\">\n",
              "    <path d=\"M0 0h24v24H0V0z\" fill=\"none\"/>\n",
              "    <path d=\"M18.56 5.44l.94 2.06.94-2.06 2.06-.94-2.06-.94-.94-2.06-.94 2.06-2.06.94zm-11 1L8.5 8.5l.94-2.06 2.06-.94-2.06-.94L8.5 2.5l-.94 2.06-2.06.94zm10 10l.94 2.06.94-2.06 2.06-.94-2.06-.94-.94-2.06-.94 2.06-2.06.94z\"/><path d=\"M17.41 7.96l-1.37-1.37c-.4-.4-.92-.59-1.43-.59-.52 0-1.04.2-1.43.59L10.3 9.45l-7.72 7.72c-.78.78-.78 2.05 0 2.83L4 21.41c.39.39.9.59 1.41.59.51 0 1.02-.2 1.41-.59l7.78-7.78 2.81-2.81c.8-.78.8-2.07 0-2.86zM5.41 20L4 18.59l7.72-7.72 1.47 1.35L5.41 20z\"/>\n",
              "  </svg>\n",
              "      </button>\n",
              "      \n",
              "  <style>\n",
              "    .colab-df-container {\n",
              "      display:flex;\n",
              "      flex-wrap:wrap;\n",
              "      gap: 12px;\n",
              "    }\n",
              "\n",
              "    .colab-df-convert {\n",
              "      background-color: #E8F0FE;\n",
              "      border: none;\n",
              "      border-radius: 50%;\n",
              "      cursor: pointer;\n",
              "      display: none;\n",
              "      fill: #1967D2;\n",
              "      height: 32px;\n",
              "      padding: 0 0 0 0;\n",
              "      width: 32px;\n",
              "    }\n",
              "\n",
              "    .colab-df-convert:hover {\n",
              "      background-color: #E2EBFA;\n",
              "      box-shadow: 0px 1px 2px rgba(60, 64, 67, 0.3), 0px 1px 3px 1px rgba(60, 64, 67, 0.15);\n",
              "      fill: #174EA6;\n",
              "    }\n",
              "\n",
              "    [theme=dark] .colab-df-convert {\n",
              "      background-color: #3B4455;\n",
              "      fill: #D2E3FC;\n",
              "    }\n",
              "\n",
              "    [theme=dark] .colab-df-convert:hover {\n",
              "      background-color: #434B5C;\n",
              "      box-shadow: 0px 1px 3px 1px rgba(0, 0, 0, 0.15);\n",
              "      filter: drop-shadow(0px 1px 2px rgba(0, 0, 0, 0.3));\n",
              "      fill: #FFFFFF;\n",
              "    }\n",
              "  </style>\n",
              "\n",
              "      <script>\n",
              "        const buttonEl =\n",
              "          document.querySelector('#df-41730f98-6b15-4684-a813-277e80dd8044 button.colab-df-convert');\n",
              "        buttonEl.style.display =\n",
              "          google.colab.kernel.accessAllowed ? 'block' : 'none';\n",
              "\n",
              "        async function convertToInteractive(key) {\n",
              "          const element = document.querySelector('#df-41730f98-6b15-4684-a813-277e80dd8044');\n",
              "          const dataTable =\n",
              "            await google.colab.kernel.invokeFunction('convertToInteractive',\n",
              "                                                     [key], {});\n",
              "          if (!dataTable) return;\n",
              "\n",
              "          const docLinkHtml = 'Like what you see? Visit the ' +\n",
              "            '<a target=\"_blank\" href=https://colab.research.google.com/notebooks/data_table.ipynb>data table notebook</a>'\n",
              "            + ' to learn more about interactive tables.';\n",
              "          element.innerHTML = '';\n",
              "          dataTable['output_type'] = 'display_data';\n",
              "          await google.colab.output.renderOutput(dataTable, element);\n",
              "          const docLink = document.createElement('div');\n",
              "          docLink.innerHTML = docLinkHtml;\n",
              "          element.appendChild(docLink);\n",
              "        }\n",
              "      </script>\n",
              "    </div>\n",
              "  </div>\n",
              "  "
            ]
          },
          "metadata": {},
          "execution_count": 5
        }
      ]
    },
    {
      "cell_type": "markdown",
      "source": [
        "# Data Preparation\n",
        "After fetching the dataset and organising them as dataframes, we wil start tokenizing the data and preparing actual tensors for our model to train on.\n",
        "\n",
        "Our model would take in 2 inputs, ie context and question, and based on that it should be able to find a substring of the context as the answer to the question.\n",
        "\n",
        "Since answer is a substring of the context, we will use the same tokenizer for context and answer."
      ],
      "metadata": {
        "id": "77VwP4SaS7Qz"
      }
    },
    {
      "cell_type": "code",
      "source": [
        "MAX_LEN = 512\n",
        "\n",
        "context_tokenizer = Tokenizer()\n",
        "context_tokenizer.fit_on_texts(df_train.context.fillna(''))\n",
        "\n",
        "question_tokenizer = Tokenizer()\n",
        "question_tokenizer.fit_on_texts(df_train.question.fillna(''))"
      ],
      "metadata": {
        "id": "LdHnEUCFSFka"
      },
      "execution_count": null,
      "outputs": []
    },
    {
      "cell_type": "markdown",
      "source": [
        "We will prepare the context, question and answer tensors:\n",
        "* tokenize and pad the context using context tokenizer to form context tensor\n",
        "* tokenize and pad the answer using context tokenizer\n",
        "* calculate the beginning and ending index of answer sub array in the context array as one hot encoded arrays and pad them\n",
        "* tokenize and pad the question using question tokenizer to form question tensor\n",
        "* concatenate beginning and ending indicies tensors to form the answer tensor"
      ],
      "metadata": {
        "id": "8O_OSaRfTmob"
      }
    },
    {
      "cell_type": "code",
      "source": [
        "# Utility function to get the tensors from the dataframe\n",
        "def get_tensors(df):\n",
        "  context = context_tokenizer.texts_to_sequences(df.context.fillna(''))\n",
        "  answers = context_tokenizer.texts_to_sequences(df.answers.fillna(''))\n",
        "  beg_pos = [[1 if a[x:x+len(b)] == b else 0 for x in range(len(a))] for a, b in zip(context, answers)]\n",
        "  end_pos = [[1 if a[x:x+len(b)] == b else 0 for x in range(len(a))] for a, b in zip(context, answers)]\n",
        "  question = question_tokenizer.texts_to_sequences(df.question.fillna(''))\n",
        "\n",
        "  context = np.array(pad_sequences(context, maxlen=MAX_LEN, padding='post', truncating='post'))\n",
        "  beg_pos = np.array(pad_sequences(beg_pos, maxlen=MAX_LEN, padding='post', truncating='post'))\n",
        "  end_pos = np.array(pad_sequences(end_pos, maxlen=MAX_LEN, padding='post', truncating='post'))\n",
        "  question = np.array(pad_sequences(question, maxlen=MAX_LEN, padding='post', truncating='post'))\n",
        "\n",
        "  beg_pos = np.expand_dims(beg_pos, axis=2)\n",
        "  end_pos = np.expand_dims(end_pos, axis=2)\n",
        "  answer = np.concatenate((beg_pos, end_pos), axis=2)\n",
        "\n",
        "  return context, question, answer\n",
        "\n",
        "contexts_train, questions_train, answers_train   = get_tensors(df_train)\n",
        "contexts_valid, questions_valid, answers_valid   = get_tensors(df_valid)\n",
        "contexts_test, questions_test, answers_test   = get_tensors(df_test)\n",
        "\n",
        "print(f\"Shape of Context Tensor: {contexts_train.shape}, Question Tensor: {questions_train.shape}, Answers Tensor: {answers_train.shape}\")"
      ],
      "metadata": {
        "colab": {
          "base_uri": "https://localhost:8080/"
        },
        "id": "2NXCzB58MnOG",
        "outputId": "09a20fe2-9b4e-4cea-c7cc-8748d7cb1bf3"
      },
      "execution_count": null,
      "outputs": [
        {
          "output_type": "stream",
          "name": "stdout",
          "text": [
            "Shape of Context Tensor: (3276, 512), Question Tensor: (3276, 512), Answers Tensor: (3276, 512, 2)\n"
          ]
        }
      ]
    },
    {
      "cell_type": "markdown",
      "source": [
        "# Model\n",
        "\n",
        "Lets define a standard transformer encoder block"
      ],
      "metadata": {
        "id": "jxB-qxa1Uy7y"
      }
    },
    {
      "cell_type": "code",
      "source": [
        "class TransformerEncoder(L.Layer):\n",
        "    def __init__(self, embed_dim, dense_dim, num_heads, **kwargs):\n",
        "        super().__init__(**kwargs)\n",
        "        self.embed_dim = embed_dim\n",
        "        self.dense_dim = dense_dim\n",
        "        self.num_heads = num_heads\n",
        "        self.attention = L.MultiHeadAttention(num_heads=num_heads, key_dim=embed_dim)\n",
        "        self.dense_proj = keras.Sequential([L.Dense(dense_dim, activation='relu'), L.Dense(embed_dim)])\n",
        "        self.layernorm1 = L.LayerNormalization()\n",
        "        self.layernorm2 = L.LayerNormalization()\n",
        "    \n",
        "    def call(self, inputs, mask=None):\n",
        "        if mask is not None:\n",
        "            mask = mask[: tf.newaxis, :]\n",
        "        attention_output = self.attention(inputs, inputs, attention_mask=mask)\n",
        "        proj_input = self.layernorm1(inputs + attention_output)\n",
        "        proj_output = self.dense_proj(proj_input)\n",
        "        return self.layernorm2(proj_input + proj_output)\n",
        "    \n",
        "    def get_config(self):\n",
        "        config = super().get_config()\n",
        "        config.update({\n",
        "            \"embed_dim\": self.embed_dim,\n",
        "            \"num_heads\": self.num_heads,\n",
        "            \"dense_dim\": self.dense_dim\n",
        "        })\n",
        "        return config"
      ],
      "metadata": {
        "id": "odbQj-1yOqWu"
      },
      "execution_count": null,
      "outputs": []
    },
    {
      "cell_type": "markdown",
      "source": [
        "Lets define the model architecture\n",
        "\n",
        "An Extractive Question Answering Model is pretty simple and similar to that of token classification, ie there are only a couple of changes, since we need two text inputs, we embed both of them and then pass through the encoder blocks and then we concatenate them, and the final output layer does a multilabel token classification with two classes, where 1 class represent beginning of answer and other class means end of the asnwer therefore the architechture looks something like:\n",
        "\n",
        "* Input Layers\n",
        "* Embeddingss\n",
        "* Transformer Encoder Blocks\n",
        "* Dropout (optional)\n",
        "* Concatenation\n",
        "* Classification Layer"
      ],
      "metadata": {
        "id": "ZLQZKS94XD5l"
      }
    },
    {
      "cell_type": "code",
      "source": [
        "EMBED_DIM = 50\n",
        "DENSE_DIM = 64\n",
        "NUM_HEADS = 4\n",
        "\n",
        "context_inp = L.Input(shape=(MAX_LEN, ), name='context')\n",
        "question_inp = L.Input(shape=(MAX_LEN, ), name='question')\n",
        "\n",
        "context_emb = L.Embedding(\n",
        "    len(context_tokenizer.word_index)+1, EMBED_DIM, name='context_embeddings'\n",
        ")(context_inp)\n",
        "question_emb = L.Embedding(\n",
        "    len(question_tokenizer.word_index)+1, EMBED_DIM, name='question_embeddings'\n",
        ")(question_inp)\n",
        "\n",
        "context_emb = TransformerEncoder(EMBED_DIM, DENSE_DIM, NUM_HEADS, name='context_encoder')(context_emb)\n",
        "question_emb = TransformerEncoder(EMBED_DIM, DENSE_DIM, NUM_HEADS, name='question_encoder')(question_emb)\n",
        "\n",
        "concat_emb = L.Concatenate(axis=-1, name='concatenate')([context_emb, question_emb])\n",
        "\n",
        "outputs = L.Dense(2, activation='sigmoid', name='outputs')(concat_emb)\n",
        "\n",
        "model = keras.Model(inputs=[context_inp, question_inp], outputs=outputs)\n",
        "model.compile(loss='binary_crossentropy', optimizer=keras.optimizers.Adam(1e-4))\n",
        "model.summary()\n",
        "keras.utils.plot_model(model, show_shapes=True)"
      ],
      "metadata": {
        "colab": {
          "base_uri": "https://localhost:8080/",
          "height": 1000
        },
        "id": "Z8K66LzIU4lx",
        "outputId": "8a330d60-feb7-4de7-feec-82ccd758ae2b"
      },
      "execution_count": null,
      "outputs": [
        {
          "output_type": "stream",
          "name": "stdout",
          "text": [
            "Model: \"model\"\n",
            "__________________________________________________________________________________________________\n",
            " Layer (type)                   Output Shape         Param #     Connected to                     \n",
            "==================================================================================================\n",
            " context (InputLayer)           [(None, 512)]        0           []                               \n",
            "                                                                                                  \n",
            " question (InputLayer)          [(None, 512)]        0           []                               \n",
            "                                                                                                  \n",
            " context_embeddings (Embedding)  (None, 512, 50)     1382500     ['context[0][0]']                \n",
            "                                                                                                  \n",
            " question_embeddings (Embedding  (None, 512, 50)     66800       ['question[0][0]']               \n",
            " )                                                                                                \n",
            "                                                                                                  \n",
            " context_encoder (TransformerEn  (None, 512, 50)     47364       ['context_embeddings[0][0]']     \n",
            " coder)                                                                                           \n",
            "                                                                                                  \n",
            " question_encoder (TransformerE  (None, 512, 50)     47364       ['question_embeddings[0][0]']    \n",
            " ncoder)                                                                                          \n",
            "                                                                                                  \n",
            " concatenate (Concatenate)      (None, 512, 100)     0           ['context_encoder[0][0]',        \n",
            "                                                                  'question_encoder[0][0]']       \n",
            "                                                                                                  \n",
            " outputs (Dense)                (None, 512, 2)       202         ['concatenate[0][0]']            \n",
            "                                                                                                  \n",
            "==================================================================================================\n",
            "Total params: 1,544,230\n",
            "Trainable params: 1,544,230\n",
            "Non-trainable params: 0\n",
            "__________________________________________________________________________________________________\n"
          ]
        },
        {
          "output_type": "execute_result",
          "data": {
            "text/plain": [
              "<IPython.core.display.Image object>"
            ],
            "image/png": "[encoded data removed]"
          },
          "metadata": {},
          "execution_count": 9
        }
      ]
    },
    {
      "cell_type": "code",
      "source": [
        "%%capture\n",
        "es = keras.callbacks.EarlyStopping(min_delta=1e-4, patience=5, verbose=1, restore_best_weights=True)\n",
        "rlp = keras.callbacks.ReduceLROnPlateau(patience=2, verbose=1)\n",
        "csv_logger = keras.callbacks.CSVLogger('training_log.csv')\n",
        "\n",
        "history = model.fit(\n",
        "    [contexts_train, questions_train], answers_train, validation_data=([contexts_valid, questions_valid], answers_valid),\n",
        "    epochs=250, callbacks=[es, rlp, csv_logger]\n",
        ")"
      ],
      "metadata": {
        "id": "CLh3O93WVKI0"
      },
      "execution_count": null,
      "outputs": []
    },
    {
      "cell_type": "code",
      "source": [
        "pd.DataFrame(history.history)[['loss', 'val_loss']].plot();"
      ],
      "metadata": {
        "colab": {
          "base_uri": "https://localhost:8080/",
          "height": 264
        },
        "id": "T9fEbzVGWKGh",
        "outputId": "5de98d8b-921d-4fd0-dbee-38ea14bd5258"
      },
      "execution_count": null,
      "outputs": [
        {
          "output_type": "display_data",
          "data": {
            "text/plain": [
              "<Figure size 432x288 with 1 Axes>"
            ],
            "image/png": "[encoded data removed]"
          },
          "metadata": {
            "needs_background": "light"
          }
        }
      ]
    },
    {
      "cell_type": "code",
      "source": [
        "idx = np.random.randint(0, contexts_test.shape[0])\n",
        "query_context = contexts_test[idx:idx+1]\n",
        "query_question = questions_test[idx:idx+1]\n",
        "query_answer = answers_test[idx:idx+1]\n",
        "query_ans_beg, query_ans_end  = np.ravel(answers_test[idx:idx+1].argmax(axis=1))\n",
        "print('Context:', context_tokenizer.sequences_to_texts(query_context))\n",
        "print('Question:', question_tokenizer.sequences_to_texts(query_question))\n",
        "print('Answer:', context_tokenizer.sequences_to_texts([query_context[0][query_ans_beg: query_ans_end+1]]))\n",
        "pred_ans_beg, pred_ans_end = np.ravel(model([query_context, query_question]).numpy().argmax(axis=1))\n",
        "print('Predicted Answer:', context_tokenizer.sequences_to_texts([query_context[0][pred_ans_beg: pred_ans_end+1]]))"
      ],
      "metadata": {
        "colab": {
          "base_uri": "https://localhost:8080/"
        },
        "id": "9d549NkdVleO",
        "outputId": "192a3514-dcf6-4f05-ab95-1b03e837dea3"
      },
      "execution_count": null,
      "outputs": [
        {
          "output_type": "stream",
          "name": "stdout",
          "text": [
            "Context: [\"i grew up on homemade andamaranth graham crackers only having the honey maid at friend's houses so for me the honey maid were a very sweet treat much like cookies and too sweet to eat more than one sheet my husband grew up on honey maid graham crackers he thinks the amaranth are too bland and without flavor i think the honey maid are too sweet and dislike the flavor of the enriched flour versus the whole grain that i'm used to i was going to say that these were a good balance between the two extremes but both of us actually prefer them to the graham crackers we grew up with they have more flavor than either the amaranth or the honey maid without being too sweet they are the closest i've ever tasted to homemade without all the effort of making them from scratch the hint of cinnamon is delicious they taste fantastic dipped in yogurt which is my husband's favorite way to eat them and bake up nicely as graham cracker crusts comparing them nutritionally to honey maid these are marginally better in most respects and a lot better in sodium content with 130 mg of sodium compared to 190 in the honey maid the packaging is nice and mine were in good shape in the boxes the boxes are smaller than other brands and the crackers themselves don't have clear cut perforations to break the crackers on the flavor and texture more than makes up for that as far as my family is concerned\"]\n",
            "Question: ['how do you like the texture']\n",
            "Answer: ['andamaranth']\n",
            "Predicted Answer: ['andamaranth']\n"
          ]
        }
      ]
    },
    {
      "cell_type": "code",
      "source": [
        ""
      ],
      "metadata": {
        "id": "bd3DeNAJYOjp"
      },
      "execution_count": null,
      "outputs": []
    }
  ],
  "metadata": {
    "colab": {
      "name": "Extractive-Question-Answering-Transformer",
      "provenance": [],
      "collapsed_sections": [],
      "include_colab_link": true
    },
    "kernelspec": {
      "display_name": "Python 3",
      "name": "python3"
    },
    "accelerator": "GPU"
  },
  "nbformat": 4,
  "nbformat_minor": 0
}